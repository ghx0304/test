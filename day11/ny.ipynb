{
 "cells": [
  {
   "cell_type": "code",
   "execution_count": 26,
   "outputs": [],
   "source": [
    "import random\n",
    "import numpy as np\n",
    "import time"
   ],
   "metadata": {
    "collapsed": false,
    "pycharm": {
     "name": "#%%\n"
    }
   }
  },
  {
   "cell_type": "code",
   "execution_count": 27,
   "outputs": [
    {
     "name": "stdout",
     "output_type": "stream",
     "text": [
      "Sum of 1 million random numbers using sum() function:  499900.38121432037\n",
      "Time taken to calculate sum:  0.0050029754638671875 seconds\n"
     ]
    }
   ],
   "source": [
    "a = []\n",
    "for i in range(1000000):\n",
    "    a.append(random.random())\n",
    "start_time = time.time()\n",
    "sum1 = sum(a)\n",
    "end_time = time.time()\n",
    "print(\"Sum of 1 million random numbers using sum() function: \", sum1)\n",
    "print(\"Time taken to calculate sum: \", end_time - start_time, \"seconds\")"
   ],
   "metadata": {
    "collapsed": false,
    "pycharm": {
     "name": "#%%\n"
    }
   }
  },
  {
   "cell_type": "code",
   "execution_count": 28,
   "outputs": [
    {
     "name": "stdout",
     "output_type": "stream",
     "text": [
      "Sum of 1 million random numbers using numpy.sum() function:  499900.3812143072\n",
      "Time taken to calculate sum:  0.0019905567169189453 seconds\n"
     ]
    }
   ],
   "source": [
    "b = np.array(a)\n",
    "start_time = time.time()\n",
    "sum2 = np.sum(b)\n",
    "end_time = time.time()\n",
    "print(\"Sum of 1 million random numbers using numpy.sum() function: \", sum2)\n",
    "print(\"Time taken to calculate sum: \", end_time - start_time, \"seconds\")"
   ],
   "metadata": {
    "collapsed": false,
    "pycharm": {
     "name": "#%%\n"
    }
   }
  },
  {
   "cell_type": "markdown",
   "source": [
    "# 4.1创建一维数组"
   ],
   "metadata": {
    "collapsed": false,
    "pycharm": {
     "name": "#%% md\n"
    }
   }
  },
  {
   "cell_type": "code",
   "execution_count": 29,
   "outputs": [
    {
     "name": "stdout",
     "output_type": "stream",
     "text": [
      "<class 'numpy.ndarray'>\n",
      "[1 2 3 4]\n"
     ]
    }
   ],
   "source": [
    "list1 = [1,2,3,4]\n",
    "#列表强制转换为数组\n",
    "oneArray = np.array(list1)\n",
    "print(type(oneArray))\n",
    "print(oneArray)"
   ],
   "metadata": {
    "collapsed": false,
    "pycharm": {
     "name": "#%%\n"
    }
   }
  },
  {
   "cell_type": "code",
   "execution_count": 30,
   "outputs": [
    {
     "name": "stdout",
     "output_type": "stream",
     "text": [
      "[1 2 3 4]\n",
      "<class 'numpy.ndarray'>\n"
     ]
    }
   ],
   "source": [
    "#1、直接通过传入列表创造数组\n",
    "t1 = np.array([1,2,3,4])\n",
    "print(t1)\n",
    "print(type(t1))"
   ],
   "metadata": {
    "collapsed": false,
    "pycharm": {
     "name": "#%%\n"
    }
   }
  },
  {
   "cell_type": "code",
   "execution_count": 31,
   "outputs": [
    {
     "name": "stdout",
     "output_type": "stream",
     "text": [
      "[ 0  1  2  3  4  5  6  7  8  9 10 11]\n",
      "<class 'numpy.ndarray'>\n"
     ]
    }
   ],
   "source": [
    "#2、传入range生产序列\n",
    "t2 = np.array(range(12))\n",
    "print(t2)\n",
    "print(type(t2))"
   ],
   "metadata": {
    "collapsed": false,
    "pycharm": {
     "name": "#%%\n"
    }
   }
  },
  {
   "cell_type": "code",
   "execution_count": 32,
   "outputs": [
    {
     "name": "stdout",
     "output_type": "stream",
     "text": [
      "[ 0  2  4  6  8 10]\n",
      "<class 'numpy.ndarray'>\n"
     ]
    }
   ],
   "source": [
    "#3、使用numpy自带的np.arange()函数生成序列\n",
    "t3 = np.arange(0,12,2)\n",
    "print(t3)\n",
    "print(type(t3))"
   ],
   "metadata": {
    "collapsed": false,
    "pycharm": {
     "name": "#%%#3、使用numpy自带的np.arange()函数生成序列\n"
    }
   }
  },
  {
   "cell_type": "markdown",
   "source": [
    "# 4.2创建二维数组"
   ],
   "metadata": {
    "collapsed": false,
    "pycharm": {
     "name": "#%% md\n"
    }
   }
  },
  {
   "cell_type": "code",
   "execution_count": 33,
   "outputs": [
    {
     "name": "stdout",
     "output_type": "stream",
     "text": [
      "<class 'numpy.ndarray'>\n",
      "[[1 2 3]\n",
      " [4 5 6]\n",
      " [7 8 9]]\n"
     ]
    }
   ],
   "source": [
    "#1、直接通过传入列表创造二维数组\n",
    "list2 = [[1,2,3],[4,5,6],[7,8,9]]\n",
    "twoArray = np.array(list2)\n",
    "print(type(twoArray))\n",
    "print(twoArray)"
   ],
   "metadata": {
    "collapsed": false,
    "pycharm": {
     "name": "#%%\n"
    }
   }
  },
  {
   "cell_type": "markdown",
   "source": [
    "# 4.3常用属性"
   ],
   "metadata": {
    "collapsed": false,
    "pycharm": {
     "name": "#%% md\n"
    }
   }
  },
  {
   "cell_type": "code",
   "execution_count": 34,
   "outputs": [
    {
     "name": "stdout",
     "output_type": "stream",
     "text": [
      "1\n",
      "2\n"
     ]
    }
   ],
   "source": [
    "#1、获取数组的维数\n",
    "print(oneArray.ndim)\n",
    "print(twoArray.ndim)"
   ],
   "metadata": {
    "collapsed": false,
    "pycharm": {
     "name": "#%%\n"
    }
   }
  },
  {
   "cell_type": "code",
   "execution_count": 35,
   "outputs": [
    {
     "name": "stdout",
     "output_type": "stream",
     "text": [
      "4\n",
      "9\n"
     ]
    }
   ],
   "source": [
    "#2、获取数组的元素个数\n",
    "print(oneArray.size)\n",
    "print(twoArray.size)"
   ],
   "metadata": {
    "collapsed": false,
    "pycharm": {
     "name": "#%%\n"
    }
   }
  },
  {
   "cell_type": "code",
   "execution_count": 36,
   "outputs": [
    {
     "name": "stdout",
     "output_type": "stream",
     "text": [
      "(4,)\n",
      "(3, 3)\n"
     ]
    }
   ],
   "source": [
    "#3、获取数组的形状\n",
    "print(oneArray.shape)\n",
    "print(twoArray.shape)"
   ],
   "metadata": {
    "collapsed": false,
    "pycharm": {
     "name": "#%%\n"
    }
   }
  },
  {
   "cell_type": "markdown",
   "source": [
    "# 4.4调整数组的形状"
   ],
   "metadata": {
    "collapsed": false,
    "pycharm": {
     "name": "#%% md\n"
    }
   }
  },
  {
   "cell_type": "code",
   "execution_count": 37,
   "outputs": [
    {
     "name": "stdout",
     "output_type": "stream",
     "text": [
      "[[ 1  2  3]\n",
      " [ 4  5  6]\n",
      " [ 7  8  9]\n",
      " [10 11 12]]\n",
      "(4, 3)\n",
      "[[ 1  2  3  4]\n",
      " [ 5  6  7  8]\n",
      " [ 9 10 11 12]]\n",
      "(3, 4)\n"
     ]
    }
   ],
   "source": [
    "#通过reshape()方法调整数组的形状\n",
    "four = np.array([[1,2,3],[4,5,6],[7,8,9],[10,11,12]])\n",
    "print(four)\n",
    "print(four.shape)\n",
    "four.shape = (3,4)\n",
    "print(four)\n",
    "print(four.shape)"
   ],
   "metadata": {
    "collapsed": false,
    "pycharm": {
     "name": "#%%\n"
    }
   }
  },
  {
   "cell_type": "code",
   "execution_count": 38,
   "outputs": [
    {
     "name": "stdout",
     "output_type": "stream",
     "text": [
      "[[ 1  2  3]\n",
      " [ 4  5  6]\n",
      " [ 7  8  9]\n",
      " [10 11 12]]\n",
      "(4, 3)\n"
     ]
    }
   ],
   "source": [
    "#重新调整数组的形状，返回新数组\n",
    "four = four.reshape(4,3)\n",
    "print(four)\n",
    "print(four.shape)"
   ],
   "metadata": {
    "collapsed": false,
    "pycharm": {
     "name": "#%%\n"
    }
   }
  },
  {
   "cell_type": "code",
   "execution_count": 42,
   "outputs": [
    {
     "name": "stdout",
     "output_type": "stream",
     "text": [
      "[ 1  4  7 10  2  5  8 11  3  6  9 12]\n",
      "[ 1  2  3  4  5  6  7  8  9 10 11 12]\n",
      "[[ 1  2  3]\n",
      " [ 4  5  6]\n",
      " [ 7  8  9]\n",
      " [10 11 12]]\n"
     ]
    }
   ],
   "source": [
    "#将多维数组变成一维数组,\n",
    "#C是按行优先，F是按列优先\n",
    "five = four.reshape((12,),order='C')\n",
    "six = four.reshape((12,),order='F')\n",
    "print(six)\n",
    "print(five)\n",
    "print(four)"
   ],
   "metadata": {
    "collapsed": false,
    "pycharm": {
     "name": "#%%\n"
    }
   }
  },
  {
   "cell_type": "code",
   "execution_count": 49,
   "outputs": [
    {
     "name": "stdout",
     "output_type": "stream",
     "text": [
      "[ 0  1  2  3  4  5  6  7  8  9 10 11 12 13 14 15 16 17 18 19 20 21 22 23]\n",
      "(24,)\n",
      "[[[ 0  1  2  3]\n",
      "  [ 4  5  6  7]\n",
      "  [ 8  9 10 11]]\n",
      "\n",
      " [[12 13 14 15]\n",
      "  [16 17 18 19]\n",
      "  [20 21 22 23]]]\n",
      "(2, 3, 4)\n",
      "--------------------------------------------------\n",
      "(4, 3, 2)\n",
      "(2, 12)\n"
     ]
    }
   ],
   "source": [
    "t = np.arange(24)\n",
    "print(t)\n",
    "print(t.shape)\n",
    "t1 = t.reshape((2,3,4))\n",
    "print(t1)\n",
    "print(t1.shape)\n",
    "print('-'*50)\n",
    "t2 = t1.reshape((4,3,2))\n",
    "print(t2.shape)\n",
    "t3 = t2.reshape((2,12))\n",
    "print(t3.shape)"
   ],
   "metadata": {
    "collapsed": false,
    "pycharm": {
     "name": "#%%\n"
    }
   }
  },
  {
   "cell_type": "markdown",
   "source": [
    "# 4.5将数组转换成list"
   ],
   "metadata": {
    "collapsed": false,
    "pycharm": {
     "name": "#%% md\n"
    }
   }
  },
  {
   "cell_type": "code",
   "execution_count": 52,
   "outputs": [
    {
     "name": "stdout",
     "output_type": "stream",
     "text": [
      "[ 1  2  3  4  5  6  7  8  9 10]\n",
      "[1, 2, 3, 4, 5, 6, 7, 8, 9, 10]\n"
     ]
    }
   ],
   "source": [
    "#将数组转换成列表,区别在于有没有,\n",
    "a = np.array([1,2,3,4,5,6,7,8,9,10])\n",
    "print(a)\n",
    "b = a.tolist()\n",
    "print(b)"
   ],
   "metadata": {
    "collapsed": false,
    "pycharm": {
     "name": "#%%\n"
    }
   }
  },
  {
   "cell_type": "markdown",
   "source": [
    "# 5 numpy的数据类型"
   ],
   "metadata": {
    "collapsed": false,
    "pycharm": {
     "name": "#%% md\n"
    }
   }
  },
  {
   "cell_type": "code",
   "execution_count": 54,
   "outputs": [
    {
     "name": "stdout",
     "output_type": "stream",
     "text": [
      "2\n",
      "int16\n"
     ]
    }
   ],
   "source": [
    "import random\n",
    "#返回数组中每个元素的字节单位长度，dtype设置数据类型\n",
    "f =np.array([1,2,3,4,5],dtype=np.int16)\n",
    "\n",
    "#itemsize获取数组中每个元素的字节单位长度\n",
    "print(f.itemsize)\n",
    "\n",
    "#获取数组的类型\n",
    "print(f.dtype)"
   ],
   "metadata": {
    "collapsed": false,
    "pycharm": {
     "name": "#%%\n"
    }
   }
  },
  {
   "cell_type": "code",
   "execution_count": 55,
   "outputs": [
    {
     "name": "stdout",
     "output_type": "stream",
     "text": [
      "float32\n"
     ]
    }
   ],
   "source": [
    "#调整数据类型\n",
    "f1 = f.astype(np.float32)\n",
    "print(f1.dtype)"
   ],
   "metadata": {
    "collapsed": false,
    "pycharm": {
     "name": "#%%\n"
    }
   }
  },
  {
   "cell_type": "markdown",
   "source": [],
   "metadata": {
    "collapsed": false,
    "pycharm": {
     "name": "#%% md\n"
    }
   }
  },
  {
   "cell_type": "code",
   "execution_count": 61,
   "outputs": [
    {
     "name": "stdout",
     "output_type": "stream",
     "text": [
      "0.48\n"
     ]
    }
   ],
   "source": [
    "#随机生成小数，并保留两位小数\n",
    "print(round(random.random(),2))"
   ],
   "metadata": {
    "collapsed": false,
    "pycharm": {
     "name": "#%%\n"
    }
   }
  },
  {
   "cell_type": "code",
   "execution_count": 62,
   "outputs": [
    {
     "name": "stdout",
     "output_type": "stream",
     "text": [
      "[0.13520959 0.44684056 0.94402364 0.71784025 0.04954232 0.42563946\n",
      " 0.15479646 0.62817422 0.23527841 0.74660904]\n",
      "[0.14 0.45 0.94 0.72 0.05 0.43 0.15 0.63 0.24 0.75]\n"
     ]
    }
   ],
   "source": [
    "arr = np.array([random.random() for i in range(10)])\n",
    "print(arr)\n",
    "print(np.round(arr,2))"
   ],
   "metadata": {
    "collapsed": false,
    "pycharm": {
     "name": "#%%\n"
    }
   }
  },
  {
   "cell_type": "markdown",
   "source": [
    "# 6 numpy的运算\n",
    "# 6.1数组和数的运算"
   ],
   "metadata": {
    "collapsed": false,
    "pycharm": {
     "name": "#%% md\n"
    }
   }
  },
  {
   "cell_type": "code",
   "execution_count": 64,
   "outputs": [
    {
     "name": "stdout",
     "output_type": "stream",
     "text": [
      "[[ 0  1  2  3]\n",
      " [ 4  5  6  7]\n",
      " [ 8  9 10 11]\n",
      " [12 13 14 15]\n",
      " [16 17 18 19]\n",
      " [20 21 22 23]]\n",
      "--------------------------------------------------\n",
      "[[ 2  3  4  5]\n",
      " [ 6  7  8  9]\n",
      " [10 11 12 13]\n",
      " [14 15 16 17]\n",
      " [18 19 20 21]\n",
      " [22 23 24 25]]\n",
      "--------------------------------------------------\n",
      "[[ 0  2  4  6]\n",
      " [ 8 10 12 14]\n",
      " [16 18 20 22]\n",
      " [24 26 28 30]\n",
      " [32 34 36 38]\n",
      " [40 42 44 46]]\n",
      "--------------------------------------------------\n",
      "[[ 0.   0.5  1.   1.5]\n",
      " [ 2.   2.5  3.   3.5]\n",
      " [ 4.   4.5  5.   5.5]\n",
      " [ 6.   6.5  7.   7.5]\n",
      " [ 8.   8.5  9.   9.5]\n",
      " [10.  10.5 11.  11.5]]\n",
      "--------------------------------------------------\n",
      "[[  0   1   4   9]\n",
      " [ 16  25  36  49]\n",
      " [ 64  81 100 121]\n",
      " [144 169 196 225]\n",
      " [256 289 324 361]\n",
      " [400 441 484 529]]\n"
     ]
    }
   ],
   "source": [
    "t1 = np.arange(24).reshape(6,4)\n",
    "print(t1)\n",
    "print('-'*50)\n",
    "print(t1+2)\n",
    "print('-'*50)\n",
    "print(t1*2)\n",
    "print('-'*50)\n",
    "print(t1/2)\n",
    "print('-'*50)\n",
    "print(t1**2)"
   ],
   "metadata": {
    "collapsed": false,
    "pycharm": {
     "name": "#%%\n"
    }
   }
  },
  {
   "cell_type": "markdown",
   "source": [
    "# 6.2数组和数组的运算"
   ],
   "metadata": {
    "collapsed": false,
    "pycharm": {
     "name": "#%% md\n"
    }
   }
  },
  {
   "cell_type": "code",
   "execution_count": 73,
   "outputs": [
    {
     "name": "stdout",
     "output_type": "stream",
     "text": [
      "[[100 102 104 106]\n",
      " [108 110 112 114]\n",
      " [116 118 120 122]\n",
      " [124 126 128 130]\n",
      " [132 134 136 138]\n",
      " [140 142 144 146]]\n",
      "--------------------------------------------------\n",
      "[[   0  101  204  309]\n",
      " [ 416  525  636  749]\n",
      " [ 864  981 1100 1221]\n",
      " [1344 1469 1596 1725]\n",
      " [1856 1989 2124 2261]\n",
      " [2400 2541 2684 2829]]\n",
      "--------------------------------------------------\n"
     ]
    }
   ],
   "source": [
    "t1 = np.arange(24).reshape((6,4))\n",
    "t2 = np.arange(100,124).reshape((6,4))\n",
    "\n",
    "print(t1+t2)\n",
    "print('-'*50)\n",
    "print(t1*t2)\n",
    "print('-'*50)"
   ],
   "metadata": {
    "collapsed": false,
    "pycharm": {
     "name": "#%%\n"
    }
   }
  },
  {
   "cell_type": "code",
   "execution_count": 80,
   "outputs": [
    {
     "name": "stdout",
     "output_type": "stream",
     "text": [
      "(6, 1)\n",
      "[[ 0  1  2  3]\n",
      " [ 3  4  5  6]\n",
      " [ 6  7  8  9]\n",
      " [ 9 10 11 12]\n",
      " [12 13 14 15]\n",
      " [15 16 17 18]]\n",
      "(6, 4)\n"
     ]
    }
   ],
   "source": [
    "#行形状相同，列形状不同\n",
    "#(6,4)-(6,1),每一列减去相同的数\n",
    "t3 = np.arange(0,6).reshape((6,1))\n",
    "print(t3.shape)\n",
    "\n",
    "print(t1-t3)\n",
    "print((t1-t3).shape)"
   ],
   "metadata": {
    "collapsed": false,
    "pycharm": {
     "name": "#%%\n"
    }
   }
  },
  {
   "cell_type": "code",
   "execution_count": 81,
   "outputs": [
    {
     "name": "stdout",
     "output_type": "stream",
     "text": [
      "(1, 4)\n",
      "[[ 0  0  0  0]\n",
      " [ 4  4  4  4]\n",
      " [ 8  8  8  8]\n",
      " [12 12 12 12]\n",
      " [16 16 16 16]\n",
      " [20 20 20 20]]\n",
      "(6, 4)\n"
     ]
    }
   ],
   "source": [
    "#列形状相同，行形状不同\n",
    "#(6,4)-(1,4),每一行减去相同的数\n",
    "t4 = np.arange(0,4).reshape((1,4))\n",
    "print(t4.shape)\n",
    "\n",
    "print(t1-t4)\n",
    "print((t1-t4).shape)"
   ],
   "metadata": {
    "collapsed": false,
    "pycharm": {
     "name": "#%%\n"
    }
   }
  },
  {
   "cell_type": "markdown",
   "source": [
    "# 结论谁相同，谁就变"
   ],
   "metadata": {
    "collapsed": false,
    "pycharm": {
     "name": "#%% md\n"
    }
   }
  },
  {
   "cell_type": "markdown",
   "source": [
    "# 6.3数组的轴"
   ],
   "metadata": {
    "collapsed": false,
    "pycharm": {
     "name": "#%% md\n"
    }
   }
  },
  {
   "cell_type": "code",
   "execution_count": 83,
   "outputs": [
    {
     "name": "stdout",
     "output_type": "stream",
     "text": [
      "[[1 2 3]\n",
      " [4 5 6]\n",
      " [7 8 9]]\n",
      "--------------------------------------------------\n",
      "[12 15 18]\n",
      "--------------------------------------------------\n",
      "[ 6 15 24]\n",
      "--------------------------------------------------\n",
      "45\n"
     ]
    }
   ],
   "source": [
    "a =np.array([[1,2,3],[4,5,6],[7,8,9]])\n",
    "print(a)\n",
    "print('-'*50)\n",
    "#按行进行运算\n",
    "print(a.sum(axis=0))\n",
    "print('-'*50)\n",
    "#按列进行运算\n",
    "print(a.sum(axis=1))\n",
    "print('-'*50)\n",
    "print(a.sum())"
   ],
   "metadata": {
    "collapsed": false,
    "pycharm": {
     "name": "#%%\n"
    }
   }
  },
  {
   "cell_type": "code",
   "execution_count": 87,
   "outputs": [
    {
     "name": "stdout",
     "output_type": "stream",
     "text": [
      "[[[ 0  1  2]\n",
      "  [ 3  4  5]\n",
      "  [ 6  7  8]]\n",
      "\n",
      " [[ 9 10 11]\n",
      "  [12 13 14]\n",
      "  [15 16 17]]\n",
      "\n",
      " [[18 19 20]\n",
      "  [21 22 23]\n",
      "  [24 25 26]]]\n",
      "--------------------------------------------------\n",
      "[[27 30 33]\n",
      " [36 39 42]\n",
      " [45 48 51]]\n",
      "--------------------------------------------------\n",
      "[[ 9 12 15]\n",
      " [36 39 42]\n",
      " [63 66 69]]\n",
      "--------------------------------------------------\n",
      "[[ 3 12 21]\n",
      " [30 39 48]\n",
      " [57 66 75]]\n",
      "--------------------------------------------------\n"
     ]
    }
   ],
   "source": [
    "a = np.arange(27).reshape(3,3,3)\n",
    "print(a)\n",
    "print('-'*50)\n",
    "#按0轴进行运算\n",
    "print(a.sum(axis=0))\n",
    "print('-'*50)\n",
    "#按1轴进行运算\n",
    "print(a.sum(axis=1))\n",
    "print('-'*50)\n",
    "#按3轴进行运算\n",
    "print(a.sum(axis=2))\n",
    "print('-'*50)"
   ],
   "metadata": {
    "collapsed": false,
    "pycharm": {
     "name": "#%%\n"
    }
   }
  },
  {
   "cell_type": "markdown",
   "source": [
    "# 7数组的切片"
   ],
   "metadata": {
    "collapsed": false,
    "pycharm": {
     "name": "#%% md\n"
    }
   }
  },
  {
   "cell_type": "markdown",
   "source": [
    "# 7.1一维数组的切片"
   ],
   "metadata": {
    "collapsed": false,
    "pycharm": {
     "name": "#%% md\n"
    }
   }
  },
  {
   "cell_type": "code",
   "execution_count": 90,
   "outputs": [
    {
     "name": "stdout",
     "output_type": "stream",
     "text": [
      "2 [0 1 2 3 4 5 6 7 8 9]\n",
      "[2 3 4 5 6 7 8 9]\n"
     ]
    }
   ],
   "source": [
    "a = np.arange(10)\n",
    "#a[2]是取第3个元素，a[2:]是取从第3个元素到最后的元素\n",
    "print(a[2],a)\n",
    "print(a[2:])"
   ],
   "metadata": {
    "collapsed": false,
    "pycharm": {
     "name": "#%%\n"
    }
   }
  },
  {
   "cell_type": "markdown",
   "source": [
    "# 7.2多维数组的切片"
   ],
   "metadata": {
    "collapsed": false,
    "pycharm": {
     "name": "#%% md\n"
    }
   }
  },
  {
   "cell_type": "code",
   "execution_count": 97,
   "outputs": [
    {
     "name": "stdout",
     "output_type": "stream",
     "text": [
      "[[ 0  1  2  3]\n",
      " [ 4  5  6  7]\n",
      " [ 8  9 10 11]\n",
      " [12 13 14 15]]\n",
      "--------------------------------------------------\n",
      "[4 5 6 7]\n",
      "--------------------------------------------------\n",
      "[ 1  5  9 13]\n",
      "--------------------------------------------------\n",
      "6\n",
      "--------------------------------------------------\n",
      "[[ 4  5  6  7]\n",
      " [ 8  9 10 11]]\n",
      "--------------------------------------------------\n",
      "[[ 5  6]\n",
      " [ 9 10]]\n",
      "--------------------------------------------------\n",
      "[[ 5  6  7]\n",
      " [ 9 10 11]]\n",
      "--------------------------------------------------\n",
      "[[ 0  1  2  3]\n",
      " [ 8  9 10 11]]\n",
      "--------------------------------------------------\n",
      "[[ 0  2]\n",
      " [ 4  6]\n",
      " [ 8 10]\n",
      " [12 14]]\n"
     ]
    }
   ],
   "source": [
    "t1 = np.arange(16).reshape(4,4)\n",
    "print(t1)\n",
    "print('-'*50)\n",
    "\n",
    "#取第二行\n",
    "print(t1[1])\n",
    "print('-'*50)\n",
    "\n",
    "#取第二列\n",
    "print(t1[:,1])\n",
    "print('-'*50)\n",
    "\n",
    "#取第2行的第3列\n",
    "print(t1[1][2])\n",
    "print('-'*50)\n",
    "\n",
    "#取第2行到第4行\n",
    "print(t1[1:3])\n",
    "print('-'*50)\n",
    "\n",
    "#取第2行到第3行的第2列到第3列\n",
    "print(t1[1:3,1:3])\n",
    "print('-'*50)\n",
    "\n",
    "#取第2行到第4行的第2列到第4列\n",
    "print(t1[1:3,1:4])\n",
    "print('-'*50)\n",
    "\n",
    "#取不连续的多行\n",
    "#取第0、2、3行\n",
    "print(t1[[0,2]])\n",
    "print('-'*50)\n",
    "\n",
    "#取不连续的多列\n",
    "#取第0、2、3列\n",
    "print(t1[:,[0,2]])\n",
    "\n"
   ],
   "metadata": {
    "collapsed": false,
    "pycharm": {
     "name": "#%% md他t1 = np.arange(24).reshape(6,4)\n"
    }
   }
  },
  {
   "cell_type": "markdown",
   "source": [
    "# 8.1 数组中的数值修改"
   ],
   "metadata": {
    "collapsed": false,
    "pycharm": {
     "name": "#%% md\n"
    }
   }
  },
  {
   "cell_type": "code",
   "execution_count": 101,
   "outputs": [
    {
     "name": "stdout",
     "output_type": "stream",
     "text": [
      "[[ 0  1  2  3  4  5]\n",
      " [ 6  7  8  9 10 11]\n",
      " [12 13 14 15 16 17]\n",
      " [18 19 20 21 22 23]]\n",
      "--------------------------------------------------\n",
      "[[ 0  1  2  3  4  5]\n",
      " [ 0  0  0  0  0  0]\n",
      " [12 13 14 15 16 17]\n",
      " [18 19 20 21 22 23]]\n",
      "--------------------------------------------------\n",
      "[[ 0  1  0  3  4  5]\n",
      " [ 0  0  0  0  0  0]\n",
      " [12 13  0 15 16 17]\n",
      " [18 19  0 21 22 23]]\n",
      "--------------------------------------------------\n",
      "[[  0   1   0   3   4   5]\n",
      " [  0   0 100   0   0   0]\n",
      " [ 12  13   0  15  16  17]\n",
      " [ 18  19   0  21  22  23]]\n",
      "--------------------------------------------------\n"
     ]
    }
   ],
   "source": [
    "t = np.arange(24).reshape(4,6)\n",
    "print(t)\n",
    "print('-'*50)\n",
    "\n",
    "#修改某一行的值\n",
    "#t[1,:]表示t的第2行，:表示取所有列\n",
    "t[1,:]=0\n",
    "print(t)\n",
    "print('-'*50)\n",
    "\n",
    "#修改某一列的值\n",
    "#t[:,2]表示t的所有行的第3列\n",
    "t[:,2]=0\n",
    "print(t)\n",
    "print('-'*50)\n",
    "\n",
    "#修改某一个元素的值\n",
    "t[1,2]=100\n",
    "print(t)\n",
    "print('-'*50)\n"
   ],
   "metadata": {
    "collapsed": false,
    "pycharm": {
     "name": "#%%\n"
    }
   }
  },
  {
   "cell_type": "code",
   "execution_count": 107,
   "outputs": [
    {
     "name": "stdout",
     "output_type": "stream",
     "text": [
      "[[ 0  1  2  3  4  5]\n",
      " [ 6  7  8  9 10 11]\n",
      " [12 13 14 15 16 17]\n",
      " [18 19 20 21 22 23]]\n",
      "--------------------------------------------------\n",
      "[[ 0  1  2  3  4  5]\n",
      " [ 6  7  0  0 10 11]\n",
      " [12 13  0  0 16 17]\n",
      " [18 19 20 21 22 23]]\n",
      "--------------------------------------------------\n",
      "[[ 0  0  2  3  4  5]\n",
      " [ 6  7  0  0 10 11]\n",
      " [12 13  0  0 16  0]\n",
      " [18 19 20 21 22 23]]\n",
      "--------------------------------------------------\n",
      "[[ 0  0  2  3  4  5]\n",
      " [ 6  7  0  0 10  0]\n",
      " [ 0  0  0  0  0  0]\n",
      " [ 0  0  0  0  0  0]]\n"
     ]
    }
   ],
   "source": [
    "t1 = np.arange(24).reshape(4,6)\n",
    "print(t1)\n",
    "print('-'*50)\n",
    "\n",
    "#修改多行多列的值,同时满足条件\n",
    "t1[1:3,2:4] = 0\n",
    "print(t1)\n",
    "print('-'*50)\n",
    "\n",
    "#修改多个点的值\n",
    "t1[[0,2],[1,5]] = 0\n",
    "print(t1)\n",
    "print('-'*50)\n",
    "\n"
   ],
   "metadata": {
    "collapsed": false,
    "pycharm": {
     "name": "#%%\n"
    }
   }
  },
  {
   "cell_type": "markdown",
   "source": [
    "# 8.2根据逻辑条件修改数组的值"
   ],
   "metadata": {
    "collapsed": false,
    "pycharm": {
     "name": "#%% md\n"
    }
   }
  },
  {
   "cell_type": "code",
   "execution_count": 110,
   "outputs": [
    {
     "name": "stdout",
     "output_type": "stream",
     "text": [
      "[[ 0  1  2  3  4  5]\n",
      " [ 6  7  8  9 10 11]\n",
      " [12 13 14 15 16 17]\n",
      " [18 19 20 21 22 23]]\n",
      "--------------------------------------------------\n",
      "[[ 0  1  2  3  4  5]\n",
      " [ 6  7  8  9 10 10]\n",
      " [10 10 10 10 10 10]\n",
      " [10 10 10 10 10 10]]\n",
      "--------------------------------------------------\n",
      "[[ 0  1  2  3  4  5]\n",
      " [ 6  7  8  9 10 10]\n",
      " [10 10 10 10 10 10]\n",
      " [10 10 10 10 10 10]]\n",
      "--------------------------------------------------\n",
      "[['及格' '及格']\n",
      " ['及格' '及格']\n",
      " ['不及格' '及格']]\n"
     ]
    }
   ],
   "source": [
    "t = np.arange(24).reshape(4,6)\n",
    "print(t)\n",
    "print('-'*50)\n",
    "\n",
    "#将大于10的元素修改为10\n",
    "t[t>10] = 10\n",
    "print(t)\n",
    "print('-'*50)\n",
    "\n",
    "#将小于2或者大于9的元素修改为0\n",
    "#多个表达式之间用&表示与运算，别忘了要有括号\n",
    "t[(t<2) & (t>9)] = 0\n",
    "print(t)\n",
    "print('-'*50)\n",
    "\n",
    "#三目运算where\n",
    "score = np.array([[80,88],[82,81],[75,81]])\n",
    "result = np.where(score>=80, '及格', '不及格')\n",
    "print(result)\n"
   ],
   "metadata": {
    "collapsed": false,
    "pycharm": {
     "name": "#%%\n"
    }
   }
  },
  {
   "cell_type": "markdown",
   "source": [
    "# 9数组的添加、删除、去重"
   ],
   "metadata": {
    "collapsed": false,
    "pycharm": {
     "name": "#%% md\n"
    }
   }
  },
  {
   "cell_type": "markdown",
   "source": [
    "# 9.1数组的添加"
   ],
   "metadata": {
    "collapsed": false,
    "pycharm": {
     "name": "#%% md\n"
    }
   }
  },
  {
   "cell_type": "code",
   "execution_count": 116,
   "outputs": [
    {
     "name": "stdout",
     "output_type": "stream",
     "text": [
      "第一个数组：\n",
      "[[1 2 3]\n",
      " [4 5 6]]\n",
      "数组的添加：\n",
      "[1 2 3 4 5 6 7 8 9]\n",
      "沿轴0数组的添加：\n",
      "[[1 2 3]\n",
      " [4 5 6]\n",
      " [7 8 9]]\n",
      "沿轴1数组的添加：\n",
      "[[1 2 3 7 8 9]\n",
      " [4 5 6 5 5 5]]\n"
     ]
    }
   ],
   "source": [
    "a = np.array([[1,2,3],[4,5,6]])\n",
    "print('第一个数组：')\n",
    "print(a)\n",
    "\n",
    "#数组的添加\n",
    "#append()方法可以将数组添加到原数组的尾部,并且展开成一维数组\n",
    "print('数组的添加：')\n",
    "print(np.append(a, [[7,8,9]]))\n",
    "\n",
    "print('沿轴0数组的添加：')\n",
    "print(np.append(a, [[7,8,9]],axis=0))\n",
    "\n",
    "print('沿轴1数组的添加：')\n",
    "print(np.append(a, [[7,8,9],[5,5,5]],axis=1))\n",
    "\n"
   ],
   "metadata": {
    "collapsed": false,
    "pycharm": {
     "name": "#%%\n"
    }
   }
  },
  {
   "cell_type": "markdown",
   "source": [
    "# 9.2数组的删除"
   ],
   "metadata": {
    "collapsed": false,
    "pycharm": {
     "name": "#%% md\n"
    }
   }
  },
  {
   "cell_type": "code",
   "execution_count": 119,
   "outputs": [
    {
     "name": "stdout",
     "output_type": "stream",
     "text": [
      "第一个数组：\n",
      "[[ 0  1  2  3]\n",
      " [ 4  5  6  7]\n",
      " [ 8  9 10 11]]\n",
      "未传递Axis参数。在删除之前数组会被展开\n",
      "[ 0  1  2  3  4  6  7  8  9 10 11]\n",
      "删除每一行的第二列\n",
      "[[ 0  2  3]\n",
      " [ 4  6  7]\n",
      " [ 8 10 11]]\n"
     ]
    }
   ],
   "source": [
    "a = np.arange(12).reshape(3,4)\n",
    "print('第一个数组：')\n",
    "print(a)\n",
    "\n",
    "print('未传递Axis参数。在删除之前数组会被展开')\n",
    "print(np.delete(a, 5))\n",
    "\n",
    "print('删除每一行的第二列')\n",
    "print(np.delete(a, 1, axis=1))\n"
   ],
   "metadata": {
    "collapsed": false,
    "pycharm": {
     "name": "#%%\n"
    }
   }
  },
  {
   "cell_type": "markdown",
   "source": [
    "# 9.3数组的去重"
   ],
   "metadata": {
    "collapsed": false,
    "pycharm": {
     "name": "#%% md\n"
    }
   }
  },
  {
   "cell_type": "code",
   "execution_count": 123,
   "outputs": [
    {
     "name": "stdout",
     "output_type": "stream",
     "text": [
      "第一个数组：\n",
      "[1 2 3 2 1 4 5 4 3 2 1]\n",
      "数组的去重：\n",
      "[1 2 3 4 5]\n",
      "去重数组的索引数组\n",
      "[0 1 2 5 6]\n",
      "[1 2 3 4 5]\n",
      "返回去重元素的个数\n",
      "[3 3 2 2 1]\n",
      "[1 2 3 4 5]\n"
     ]
    }
   ],
   "source": [
    "a = np.array([1,2,3,2,1,4,5,4,3,2,1])\n",
    "print('第一个数组：')\n",
    "print(a)\n",
    "\n",
    "print('数组的去重：')\n",
    "print(np.unique(a))\n",
    "\n",
    "print('去重数组的索引数组')\n",
    "u, indices = np.unique(a, return_index=True)\n",
    "\n",
    "#indices是原始数组中每个元素的索引\n",
    "print(indices)\n",
    "\n",
    "#u是去重后的数组\n",
    "print(u)\n",
    "\n",
    "print('返回去重元素的个数')\n",
    "u, counts = np.unique(a, return_counts=True)\n",
    "\n",
    "#counts是每个元素的个数\n",
    "print(counts)\n",
    "\n",
    "#u是去重后的数组\n",
    "print(u)"
   ],
   "metadata": {
    "collapsed": false,
    "pycharm": {
     "name": "#%%\n"
    }
   }
  },
  {
   "cell_type": "markdown",
   "source": [],
   "metadata": {
    "collapsed": false,
    "pycharm": {
     "name": "#%% md\n"
    }
   }
  }
 ],
 "metadata": {
  "kernelspec": {
   "display_name": "Python 3",
   "language": "python",
   "name": "python3"
  },
  "language_info": {
   "codemirror_mode": {
    "name": "ipython",
    "version": 2
   },
   "file_extension": ".py",
   "mimetype": "text/x-python",
   "name": "python",
   "nbconvert_exporter": "python",
   "pygments_lexer": "ipython2",
   "version": "2.7.6"
  }
 },
 "nbformat": 4,
 "nbformat_minor": 0
}