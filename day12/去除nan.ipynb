{
 "cells": [
  {
   "cell_type": "code",
   "execution_count": 7,
   "metadata": {
    "collapsed": true,
    "pycharm": {
     "name": "#%%\n"
    }
   },
   "outputs": [
    {
     "name": "stdout",
     "output_type": "stream",
     "text": [
      "[[ 0.  1.  2.  3.  4.  5.]\n",
      " [ 6.  7. nan  9. 10. 11.]\n",
      " [12. 13. 14. 15. 16. 17.]\n",
      " [18. 19. 20. 21. 22. nan]]\n",
      "6\n"
     ]
    },
    {
     "data": {
      "text/plain": "array([[ 0.,  1.,  2.,  3.,  4.,  5.],\n       [ 6.,  7., 12.,  9., 10., 11.],\n       [12., 13., 14., 15., 16., 17.],\n       [18., 19., 20., 21., 22., 11.]])"
     },
     "execution_count": 7,
     "metadata": {},
     "output_type": "execute_result"
    }
   ],
   "source": [
    "import pandas as pd\n",
    "import numpy as np\n",
    "\n",
    "t = np.arange(24, dtype=float).reshape(4, 6)\n",
    "t[1, 2] = np.nan\n",
    "t[3, 5] = np.nan\n",
    "print(t)\n",
    "\n",
    "#t.shape[1]是列数\n",
    "#遍历每一列\n",
    "for i in range(t.shape[1]):\n",
    "    #temp_col是每一列的数组\n",
    "    temp_col = t[:, i]\n",
    "    #nan_num是nan的个数\n",
    "    #np.count_nonzero是计算非零元素的个数\n",
    "    #temp_col!= temp_col是判断是否为nan\n",
    "    nan_num = np.count_nonzero(temp_col!= temp_col)\n",
    "    #如果nan的个数不为0\n",
    "    if nan_num != 0:\n",
    "        temp_col_not_nan = temp_col[temp_col == temp_col]\n",
    "        temp_col[np.isnan(temp_col)] = np.mean(temp_col_not_nan)\n",
    "t"
   ]
  }
 ],
 "metadata": {
  "kernelspec": {
   "display_name": "Python 3",
   "language": "python",
   "name": "python3"
  },
  "language_info": {
   "codemirror_mode": {
    "name": "ipython",
    "version": 2
   },
   "file_extension": ".py",
   "mimetype": "text/x-python",
   "name": "python",
   "nbconvert_exporter": "python",
   "pygments_lexer": "ipython2",
   "version": "2.7.6"
  }
 },
 "nbformat": 4,
 "nbformat_minor": 0
}